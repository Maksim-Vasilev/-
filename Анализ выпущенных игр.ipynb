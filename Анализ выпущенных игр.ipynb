{
 "cells": [
  {
   "cell_type": "markdown",
   "id": "fd0ebb98",
   "metadata": {},
   "source": [
    "# Анализ выпущенных игр"
   ]
  },
  {
   "cell_type": "code",
   "execution_count": 2,
   "id": "f4adfdc4",
   "metadata": {},
   "outputs": [],
   "source": [
    "# Импортируем необходимые библиотеки\n",
    "import pandas as pd\n",
    "import numpy as np\n",
    "import seaborn as sns\n",
    "import matplotlib.pyplot as plt \n",
    "%matplotlib inline \n",
    "sns.set(color_codes=True)\n",
    "import warnings\n",
    "warnings.filterwarnings(\"ignore\")"
   ]
  },
  {
   "cell_type": "code",
   "execution_count": 3,
   "id": "c21c5b5c",
   "metadata": {},
   "outputs": [],
   "source": [
    "# Загружаем датасет\n",
    "data = pd.read_csv('metacritic_18.07.2021_csv.csv')"
   ]
  },
  {
   "cell_type": "code",
   "execution_count": 4,
   "id": "fd100f74",
   "metadata": {},
   "outputs": [
    {
     "data": {
      "text/html": [
       "<div>\n",
       "<style scoped>\n",
       "    .dataframe tbody tr th:only-of-type {\n",
       "        vertical-align: middle;\n",
       "    }\n",
       "\n",
       "    .dataframe tbody tr th {\n",
       "        vertical-align: top;\n",
       "    }\n",
       "\n",
       "    .dataframe thead th {\n",
       "        text-align: right;\n",
       "    }\n",
       "</style>\n",
       "<table border=\"1\" class=\"dataframe\">\n",
       "  <thead>\n",
       "    <tr style=\"text-align: right;\">\n",
       "      <th></th>\n",
       "      <th>titles</th>\n",
       "      <th>platforms</th>\n",
       "      <th>metascore</th>\n",
       "      <th>userscore</th>\n",
       "      <th>genre</th>\n",
       "      <th>date</th>\n",
       "    </tr>\n",
       "  </thead>\n",
       "  <tbody>\n",
       "    <tr>\n",
       "      <th>0</th>\n",
       "      <td>Streets of Rage 4: Mr. X Nightmare</td>\n",
       "      <td>PC</td>\n",
       "      <td>88.0</td>\n",
       "      <td>tbd</td>\n",
       "      <td>action</td>\n",
       "      <td>July 15, 2021</td>\n",
       "    </tr>\n",
       "    <tr>\n",
       "      <th>1</th>\n",
       "      <td>Sniper Elite VR</td>\n",
       "      <td>PC</td>\n",
       "      <td>67.0</td>\n",
       "      <td>7.1</td>\n",
       "      <td>action</td>\n",
       "      <td>July 8, 2021</td>\n",
       "    </tr>\n",
       "    <tr>\n",
       "      <th>2</th>\n",
       "      <td>Sniper Elite VR</td>\n",
       "      <td>PlayStation 4</td>\n",
       "      <td>75.0</td>\n",
       "      <td>tbd</td>\n",
       "      <td>action</td>\n",
       "      <td>July 8, 2021</td>\n",
       "    </tr>\n",
       "    <tr>\n",
       "      <th>3</th>\n",
       "      <td>Boomerang X</td>\n",
       "      <td>PC</td>\n",
       "      <td>81.0</td>\n",
       "      <td>6.6</td>\n",
       "      <td>action</td>\n",
       "      <td>July 8, 2021</td>\n",
       "    </tr>\n",
       "    <tr>\n",
       "      <th>4</th>\n",
       "      <td>Boomerang X</td>\n",
       "      <td>Switch</td>\n",
       "      <td>78.0</td>\n",
       "      <td>6.3</td>\n",
       "      <td>action</td>\n",
       "      <td>July 8, 2021</td>\n",
       "    </tr>\n",
       "    <tr>\n",
       "      <th>...</th>\n",
       "      <td>...</td>\n",
       "      <td>...</td>\n",
       "      <td>...</td>\n",
       "      <td>...</td>\n",
       "      <td>...</td>\n",
       "      <td>...</td>\n",
       "    </tr>\n",
       "    <tr>\n",
       "      <th>30772</th>\n",
       "      <td>WCW Backstage Assault</td>\n",
       "      <td>Nintendo 64</td>\n",
       "      <td>NaN</td>\n",
       "      <td>6.0</td>\n",
       "      <td>wrestling</td>\n",
       "      <td>December 12, 2000</td>\n",
       "    </tr>\n",
       "    <tr>\n",
       "      <th>30773</th>\n",
       "      <td>WWF SmackDown! 2: Know Your Role</td>\n",
       "      <td>PlayStation</td>\n",
       "      <td>90.0</td>\n",
       "      <td>8.4</td>\n",
       "      <td>wrestling</td>\n",
       "      <td>November 21, 2000</td>\n",
       "    </tr>\n",
       "    <tr>\n",
       "      <th>30774</th>\n",
       "      <td>WWF No Mercy</td>\n",
       "      <td>Nintendo 64</td>\n",
       "      <td>89.0</td>\n",
       "      <td>8.5</td>\n",
       "      <td>wrestling</td>\n",
       "      <td>November 17, 2000</td>\n",
       "    </tr>\n",
       "    <tr>\n",
       "      <th>30775</th>\n",
       "      <td>ECW Anarchy Rulz</td>\n",
       "      <td>PlayStation</td>\n",
       "      <td>NaN</td>\n",
       "      <td>6.4</td>\n",
       "      <td>wrestling</td>\n",
       "      <td>August 18, 2000</td>\n",
       "    </tr>\n",
       "    <tr>\n",
       "      <th>30776</th>\n",
       "      <td>WWF Royal Rumble</td>\n",
       "      <td>Dreamcast</td>\n",
       "      <td>66.0</td>\n",
       "      <td>6.4</td>\n",
       "      <td>wrestling</td>\n",
       "      <td>August 1, 2000</td>\n",
       "    </tr>\n",
       "  </tbody>\n",
       "</table>\n",
       "<p>30777 rows × 6 columns</p>\n",
       "</div>"
      ],
      "text/plain": [
       "                                   titles      platforms  metascore userscore  \\\n",
       "0      Streets of Rage 4: Mr. X Nightmare             PC       88.0       tbd   \n",
       "1                         Sniper Elite VR             PC       67.0       7.1   \n",
       "2                         Sniper Elite VR  PlayStation 4       75.0       tbd   \n",
       "3                             Boomerang X             PC       81.0       6.6   \n",
       "4                             Boomerang X         Switch       78.0       6.3   \n",
       "...                                   ...            ...        ...       ...   \n",
       "30772               WCW Backstage Assault    Nintendo 64        NaN       6.0   \n",
       "30773    WWF SmackDown! 2: Know Your Role    PlayStation       90.0       8.4   \n",
       "30774                        WWF No Mercy    Nintendo 64       89.0       8.5   \n",
       "30775                    ECW Anarchy Rulz    PlayStation        NaN       6.4   \n",
       "30776                    WWF Royal Rumble      Dreamcast       66.0       6.4   \n",
       "\n",
       "           genre               date  \n",
       "0         action      July 15, 2021  \n",
       "1         action       July 8, 2021  \n",
       "2         action       July 8, 2021  \n",
       "3         action       July 8, 2021  \n",
       "4         action       July 8, 2021  \n",
       "...          ...                ...  \n",
       "30772  wrestling  December 12, 2000  \n",
       "30773  wrestling  November 21, 2000  \n",
       "30774  wrestling  November 17, 2000  \n",
       "30775  wrestling    August 18, 2000  \n",
       "30776  wrestling     August 1, 2000  \n",
       "\n",
       "[30777 rows x 6 columns]"
      ]
     },
     "execution_count": 4,
     "metadata": {},
     "output_type": "execute_result"
    }
   ],
   "source": [
    "data"
   ]
  },
  {
   "cell_type": "markdown",
   "id": "0a424989",
   "metadata": {},
   "source": [
    "# Очистка данных"
   ]
  },
  {
   "cell_type": "markdown",
   "id": "53dce531",
   "metadata": {},
   "source": [
    "### 1. Проверяем соответствие типов данных"
   ]
  },
  {
   "cell_type": "code",
   "execution_count": 5,
   "id": "aef4124f",
   "metadata": {},
   "outputs": [
    {
     "data": {
      "text/plain": [
       "titles        object\n",
       "platforms     object\n",
       "metascore    float64\n",
       "userscore     object\n",
       "genre         object\n",
       "date          object\n",
       "dtype: object"
      ]
     },
     "execution_count": 5,
     "metadata": {},
     "output_type": "execute_result"
    }
   ],
   "source": [
    "data.dtypes"
   ]
  },
  {
   "cell_type": "markdown",
   "id": "1b91be93",
   "metadata": {},
   "source": [
    "Столбец date и userscore имеет неправильный формат данных"
   ]
  },
  {
   "cell_type": "code",
   "execution_count": 6,
   "id": "9104b450",
   "metadata": {},
   "outputs": [],
   "source": [
    "# Переводим в релевантный формат date\n",
    "data['date'] = pd.to_datetime(data['date'])"
   ]
  },
  {
   "cell_type": "code",
   "execution_count": 7,
   "id": "22a51cf4",
   "metadata": {},
   "outputs": [
    {
     "data": {
      "text/html": [
       "<div>\n",
       "<style scoped>\n",
       "    .dataframe tbody tr th:only-of-type {\n",
       "        vertical-align: middle;\n",
       "    }\n",
       "\n",
       "    .dataframe tbody tr th {\n",
       "        vertical-align: top;\n",
       "    }\n",
       "\n",
       "    .dataframe thead th {\n",
       "        text-align: right;\n",
       "    }\n",
       "</style>\n",
       "<table border=\"1\" class=\"dataframe\">\n",
       "  <thead>\n",
       "    <tr style=\"text-align: right;\">\n",
       "      <th></th>\n",
       "      <th>titles</th>\n",
       "      <th>platforms</th>\n",
       "      <th>metascore</th>\n",
       "      <th>userscore</th>\n",
       "      <th>genre</th>\n",
       "      <th>date</th>\n",
       "    </tr>\n",
       "  </thead>\n",
       "  <tbody>\n",
       "    <tr>\n",
       "      <th>0</th>\n",
       "      <td>Streets of Rage 4: Mr. X Nightmare</td>\n",
       "      <td>PC</td>\n",
       "      <td>88.0</td>\n",
       "      <td>tbd</td>\n",
       "      <td>action</td>\n",
       "      <td>2021-07-15</td>\n",
       "    </tr>\n",
       "    <tr>\n",
       "      <th>1</th>\n",
       "      <td>Sniper Elite VR</td>\n",
       "      <td>PC</td>\n",
       "      <td>67.0</td>\n",
       "      <td>7.1</td>\n",
       "      <td>action</td>\n",
       "      <td>2021-07-08</td>\n",
       "    </tr>\n",
       "    <tr>\n",
       "      <th>2</th>\n",
       "      <td>Sniper Elite VR</td>\n",
       "      <td>PlayStation 4</td>\n",
       "      <td>75.0</td>\n",
       "      <td>tbd</td>\n",
       "      <td>action</td>\n",
       "      <td>2021-07-08</td>\n",
       "    </tr>\n",
       "    <tr>\n",
       "      <th>3</th>\n",
       "      <td>Boomerang X</td>\n",
       "      <td>PC</td>\n",
       "      <td>81.0</td>\n",
       "      <td>6.6</td>\n",
       "      <td>action</td>\n",
       "      <td>2021-07-08</td>\n",
       "    </tr>\n",
       "    <tr>\n",
       "      <th>4</th>\n",
       "      <td>Boomerang X</td>\n",
       "      <td>Switch</td>\n",
       "      <td>78.0</td>\n",
       "      <td>6.3</td>\n",
       "      <td>action</td>\n",
       "      <td>2021-07-08</td>\n",
       "    </tr>\n",
       "    <tr>\n",
       "      <th>...</th>\n",
       "      <td>...</td>\n",
       "      <td>...</td>\n",
       "      <td>...</td>\n",
       "      <td>...</td>\n",
       "      <td>...</td>\n",
       "      <td>...</td>\n",
       "    </tr>\n",
       "    <tr>\n",
       "      <th>30772</th>\n",
       "      <td>WCW Backstage Assault</td>\n",
       "      <td>Nintendo 64</td>\n",
       "      <td>NaN</td>\n",
       "      <td>6.0</td>\n",
       "      <td>wrestling</td>\n",
       "      <td>2000-12-12</td>\n",
       "    </tr>\n",
       "    <tr>\n",
       "      <th>30773</th>\n",
       "      <td>WWF SmackDown! 2: Know Your Role</td>\n",
       "      <td>PlayStation</td>\n",
       "      <td>90.0</td>\n",
       "      <td>8.4</td>\n",
       "      <td>wrestling</td>\n",
       "      <td>2000-11-21</td>\n",
       "    </tr>\n",
       "    <tr>\n",
       "      <th>30774</th>\n",
       "      <td>WWF No Mercy</td>\n",
       "      <td>Nintendo 64</td>\n",
       "      <td>89.0</td>\n",
       "      <td>8.5</td>\n",
       "      <td>wrestling</td>\n",
       "      <td>2000-11-17</td>\n",
       "    </tr>\n",
       "    <tr>\n",
       "      <th>30775</th>\n",
       "      <td>ECW Anarchy Rulz</td>\n",
       "      <td>PlayStation</td>\n",
       "      <td>NaN</td>\n",
       "      <td>6.4</td>\n",
       "      <td>wrestling</td>\n",
       "      <td>2000-08-18</td>\n",
       "    </tr>\n",
       "    <tr>\n",
       "      <th>30776</th>\n",
       "      <td>WWF Royal Rumble</td>\n",
       "      <td>Dreamcast</td>\n",
       "      <td>66.0</td>\n",
       "      <td>6.4</td>\n",
       "      <td>wrestling</td>\n",
       "      <td>2000-08-01</td>\n",
       "    </tr>\n",
       "  </tbody>\n",
       "</table>\n",
       "<p>30777 rows × 6 columns</p>\n",
       "</div>"
      ],
      "text/plain": [
       "                                   titles      platforms  metascore userscore  \\\n",
       "0      Streets of Rage 4: Mr. X Nightmare             PC       88.0       tbd   \n",
       "1                         Sniper Elite VR             PC       67.0       7.1   \n",
       "2                         Sniper Elite VR  PlayStation 4       75.0       tbd   \n",
       "3                             Boomerang X             PC       81.0       6.6   \n",
       "4                             Boomerang X         Switch       78.0       6.3   \n",
       "...                                   ...            ...        ...       ...   \n",
       "30772               WCW Backstage Assault    Nintendo 64        NaN       6.0   \n",
       "30773    WWF SmackDown! 2: Know Your Role    PlayStation       90.0       8.4   \n",
       "30774                        WWF No Mercy    Nintendo 64       89.0       8.5   \n",
       "30775                    ECW Anarchy Rulz    PlayStation        NaN       6.4   \n",
       "30776                    WWF Royal Rumble      Dreamcast       66.0       6.4   \n",
       "\n",
       "           genre       date  \n",
       "0         action 2021-07-15  \n",
       "1         action 2021-07-08  \n",
       "2         action 2021-07-08  \n",
       "3         action 2021-07-08  \n",
       "4         action 2021-07-08  \n",
       "...          ...        ...  \n",
       "30772  wrestling 2000-12-12  \n",
       "30773  wrestling 2000-11-21  \n",
       "30774  wrestling 2000-11-17  \n",
       "30775  wrestling 2000-08-18  \n",
       "30776  wrestling 2000-08-01  \n",
       "\n",
       "[30777 rows x 6 columns]"
      ]
     },
     "execution_count": 7,
     "metadata": {},
     "output_type": "execute_result"
    }
   ],
   "source": [
    "data"
   ]
  },
  {
   "cell_type": "markdown",
   "id": "54276003",
   "metadata": {},
   "source": [
    "Столбец userscore переведём в соответствующий формат и удалим некорректные значения чуть позже, чтобы не искажать частотное распределение некоторых столбцов "
   ]
  },
  {
   "cell_type": "markdown",
   "id": "e5fd1f36",
   "metadata": {},
   "source": [
    "### 2. Поиск пропущенных значений"
   ]
  },
  {
   "cell_type": "code",
   "execution_count": 7,
   "id": "468e3ebe",
   "metadata": {},
   "outputs": [
    {
     "name": "stdout",
     "output_type": "stream",
     "text": [
      "titles          0\n",
      "platforms       0\n",
      "metascore    2291\n",
      "userscore    5695\n",
      "genre           0\n",
      "date            0\n",
      "dtype: int64\n"
     ]
    }
   ],
   "source": [
    "# Ищем пропущенные значения\n",
    "print(data.isnull().sum())"
   ]
  },
  {
   "cell_type": "markdown",
   "id": "36b53655",
   "metadata": {},
   "source": [
    "Около 20% пропущенных значений в столбце userscore и примерно 8% в столбце metascore"
   ]
  },
  {
   "cell_type": "code",
   "execution_count": 18,
   "id": "2d2fc598",
   "metadata": {},
   "outputs": [
    {
     "data": {
      "text/plain": [
       "array([88., 67., 75., 81., 78., 51., 55., 60., 56., 62., 64., 79., 73.,\n",
       "       76., 84., 85., 82., 66., 87., 74., 71., 68., 72., 61., 83., 80.,\n",
       "       65., 70., 77., 69., 86., 59., 63., 58., nan, 54., 89., 52., 90.,\n",
       "       91., 92., 53., 93., 50., 57., 94., 97., 95., 96., 98.])"
      ]
     },
     "execution_count": 18,
     "metadata": {},
     "output_type": "execute_result"
    }
   ],
   "source": [
    "# Взглянем на уникальные значения столбца metascore\n",
    "data.metascore.unique()"
   ]
  },
  {
   "cell_type": "code",
   "execution_count": 19,
   "id": "042f151e",
   "metadata": {},
   "outputs": [
    {
     "data": {
      "text/plain": [
       "array(['tbd', '7.1', '6.6', '6.3', nan, '6.4', '7.0', '6.8', '7.3', '6.2',\n",
       "       '6.0', '6.7', '7.2', '5.5', '6.9', '6.1', '5.4', '5.7', '5.8',\n",
       "       '5.2', '5.1', '7.4', '5.3', '5.9', '6.5', '5.0', '5.6', '8.6',\n",
       "       '8.3', '8.4', '8.2', '8.0', '8.1', '7.8', '7.7', '8.8', '7.6',\n",
       "       '8.5', '7.9', '7.5', '9.1', '9.6', '9.0', '8.7', '8.9', '9.7',\n",
       "       '9.2', '9.3', '9.8', '9.4'], dtype=object)"
      ]
     },
     "execution_count": 19,
     "metadata": {},
     "output_type": "execute_result"
    }
   ],
   "source": [
    "# Тоже самое сделаем со столбцом userscore\n",
    "data.userscore.unique()"
   ]
  },
  {
   "cell_type": "markdown",
   "id": "705aeab3",
   "metadata": {},
   "source": [
    "Заметим, что кроме nan, присутствует некое значение tbd"
   ]
  },
  {
   "cell_type": "markdown",
   "id": "3f2739e1",
   "metadata": {},
   "source": [
    "Заменим пропущенные значения столбца metascore на среднее, но прежде взглянем на описательную статистику"
   ]
  },
  {
   "cell_type": "code",
   "execution_count": 23,
   "id": "66a19947",
   "metadata": {},
   "outputs": [
    {
     "data": {
      "text/html": [
       "<div>\n",
       "<style scoped>\n",
       "    .dataframe tbody tr th:only-of-type {\n",
       "        vertical-align: middle;\n",
       "    }\n",
       "\n",
       "    .dataframe tbody tr th {\n",
       "        vertical-align: top;\n",
       "    }\n",
       "\n",
       "    .dataframe thead th {\n",
       "        text-align: right;\n",
       "    }\n",
       "</style>\n",
       "<table border=\"1\" class=\"dataframe\">\n",
       "  <thead>\n",
       "    <tr style=\"text-align: right;\">\n",
       "      <th></th>\n",
       "      <th>metascore</th>\n",
       "    </tr>\n",
       "  </thead>\n",
       "  <tbody>\n",
       "    <tr>\n",
       "      <th>count</th>\n",
       "      <td>28481.000000</td>\n",
       "    </tr>\n",
       "    <tr>\n",
       "      <th>mean</th>\n",
       "      <td>72.278466</td>\n",
       "    </tr>\n",
       "    <tr>\n",
       "      <th>std</th>\n",
       "      <td>9.923755</td>\n",
       "    </tr>\n",
       "    <tr>\n",
       "      <th>min</th>\n",
       "      <td>50.000000</td>\n",
       "    </tr>\n",
       "    <tr>\n",
       "      <th>25%</th>\n",
       "      <td>65.000000</td>\n",
       "    </tr>\n",
       "    <tr>\n",
       "      <th>50%</th>\n",
       "      <td>73.000000</td>\n",
       "    </tr>\n",
       "    <tr>\n",
       "      <th>75%</th>\n",
       "      <td>80.000000</td>\n",
       "    </tr>\n",
       "    <tr>\n",
       "      <th>max</th>\n",
       "      <td>98.000000</td>\n",
       "    </tr>\n",
       "  </tbody>\n",
       "</table>\n",
       "</div>"
      ],
      "text/plain": [
       "          metascore\n",
       "count  28481.000000\n",
       "mean      72.278466\n",
       "std        9.923755\n",
       "min       50.000000\n",
       "25%       65.000000\n",
       "50%       73.000000\n",
       "75%       80.000000\n",
       "max       98.000000"
      ]
     },
     "execution_count": 23,
     "metadata": {},
     "output_type": "execute_result"
    }
   ],
   "source": [
    "data.describe()"
   ]
  },
  {
   "cell_type": "markdown",
   "id": "0f59e22f",
   "metadata": {},
   "source": [
    "Среднее значение почти совпадает с медианой, поэтому будет корректно заменить пропущенные значения средним"
   ]
  },
  {
   "cell_type": "markdown",
   "id": "09c2aa1b",
   "metadata": {},
   "source": [
    "### 3. Поиск дубликатов"
   ]
  },
  {
   "cell_type": "code",
   "execution_count": 8,
   "id": "f17c3dac",
   "metadata": {},
   "outputs": [
    {
     "name": "stdout",
     "output_type": "stream",
     "text": [
      "number of duplicate rows:  (5, 6)\n"
     ]
    }
   ],
   "source": [
    "# Проверим датасет на наличие дубликатов\n",
    "duplicate_rows_data = data[data.duplicated()]\n",
    "print(\"number of duplicate rows: \", duplicate_rows_data.shape)"
   ]
  },
  {
   "cell_type": "code",
   "execution_count": 9,
   "id": "4bc36f4d",
   "metadata": {},
   "outputs": [
    {
     "data": {
      "text/html": [
       "<div>\n",
       "<style scoped>\n",
       "    .dataframe tbody tr th:only-of-type {\n",
       "        vertical-align: middle;\n",
       "    }\n",
       "\n",
       "    .dataframe tbody tr th {\n",
       "        vertical-align: top;\n",
       "    }\n",
       "\n",
       "    .dataframe thead th {\n",
       "        text-align: right;\n",
       "    }\n",
       "</style>\n",
       "<table border=\"1\" class=\"dataframe\">\n",
       "  <thead>\n",
       "    <tr style=\"text-align: right;\">\n",
       "      <th></th>\n",
       "      <th>titles</th>\n",
       "      <th>platforms</th>\n",
       "      <th>metascore</th>\n",
       "      <th>userscore</th>\n",
       "      <th>genre</th>\n",
       "      <th>date</th>\n",
       "    </tr>\n",
       "  </thead>\n",
       "  <tbody>\n",
       "    <tr>\n",
       "      <th>0</th>\n",
       "      <td>Streets of Rage 4: Mr. X Nightmare</td>\n",
       "      <td>PC</td>\n",
       "      <td>88.0</td>\n",
       "      <td>tbd</td>\n",
       "      <td>action</td>\n",
       "      <td>2021-07-15</td>\n",
       "    </tr>\n",
       "    <tr>\n",
       "      <th>1</th>\n",
       "      <td>Sniper Elite VR</td>\n",
       "      <td>PC</td>\n",
       "      <td>67.0</td>\n",
       "      <td>7.1</td>\n",
       "      <td>action</td>\n",
       "      <td>2021-07-08</td>\n",
       "    </tr>\n",
       "    <tr>\n",
       "      <th>2</th>\n",
       "      <td>Sniper Elite VR</td>\n",
       "      <td>PlayStation 4</td>\n",
       "      <td>75.0</td>\n",
       "      <td>tbd</td>\n",
       "      <td>action</td>\n",
       "      <td>2021-07-08</td>\n",
       "    </tr>\n",
       "    <tr>\n",
       "      <th>3</th>\n",
       "      <td>Boomerang X</td>\n",
       "      <td>PC</td>\n",
       "      <td>81.0</td>\n",
       "      <td>6.6</td>\n",
       "      <td>action</td>\n",
       "      <td>2021-07-08</td>\n",
       "    </tr>\n",
       "    <tr>\n",
       "      <th>4</th>\n",
       "      <td>Boomerang X</td>\n",
       "      <td>Switch</td>\n",
       "      <td>78.0</td>\n",
       "      <td>6.3</td>\n",
       "      <td>action</td>\n",
       "      <td>2021-07-08</td>\n",
       "    </tr>\n",
       "  </tbody>\n",
       "</table>\n",
       "</div>"
      ],
      "text/plain": [
       "                               titles      platforms  metascore userscore  \\\n",
       "0  Streets of Rage 4: Mr. X Nightmare             PC       88.0       tbd   \n",
       "1                     Sniper Elite VR             PC       67.0       7.1   \n",
       "2                     Sniper Elite VR  PlayStation 4       75.0       tbd   \n",
       "3                         Boomerang X             PC       81.0       6.6   \n",
       "4                         Boomerang X         Switch       78.0       6.3   \n",
       "\n",
       "    genre       date  \n",
       "0  action 2021-07-15  \n",
       "1  action 2021-07-08  \n",
       "2  action 2021-07-08  \n",
       "3  action 2021-07-08  \n",
       "4  action 2021-07-08  "
      ]
     },
     "execution_count": 9,
     "metadata": {},
     "output_type": "execute_result"
    }
   ],
   "source": [
    "# Удалим повторяющиеся строки\n",
    "data = data.drop_duplicates()\n",
    "data.head(5)"
   ]
  },
  {
   "cell_type": "code",
   "execution_count": 10,
   "id": "025c243d",
   "metadata": {},
   "outputs": [
    {
     "data": {
      "text/html": [
       "<div>\n",
       "<style scoped>\n",
       "    .dataframe tbody tr th:only-of-type {\n",
       "        vertical-align: middle;\n",
       "    }\n",
       "\n",
       "    .dataframe tbody tr th {\n",
       "        vertical-align: top;\n",
       "    }\n",
       "\n",
       "    .dataframe thead th {\n",
       "        text-align: right;\n",
       "    }\n",
       "</style>\n",
       "<table border=\"1\" class=\"dataframe\">\n",
       "  <thead>\n",
       "    <tr style=\"text-align: right;\">\n",
       "      <th></th>\n",
       "      <th>titles</th>\n",
       "      <th>platforms</th>\n",
       "      <th>metascore</th>\n",
       "      <th>userscore</th>\n",
       "      <th>genre</th>\n",
       "      <th>date</th>\n",
       "    </tr>\n",
       "  </thead>\n",
       "  <tbody>\n",
       "    <tr>\n",
       "      <th>0</th>\n",
       "      <td>Streets of Rage 4: Mr. X Nightmare</td>\n",
       "      <td>PC</td>\n",
       "      <td>88.0</td>\n",
       "      <td>tbd</td>\n",
       "      <td>action</td>\n",
       "      <td>2021-07-15</td>\n",
       "    </tr>\n",
       "    <tr>\n",
       "      <th>1</th>\n",
       "      <td>Sniper Elite VR</td>\n",
       "      <td>PC</td>\n",
       "      <td>67.0</td>\n",
       "      <td>7.1</td>\n",
       "      <td>action</td>\n",
       "      <td>2021-07-08</td>\n",
       "    </tr>\n",
       "    <tr>\n",
       "      <th>2</th>\n",
       "      <td>Sniper Elite VR</td>\n",
       "      <td>PlayStation 4</td>\n",
       "      <td>75.0</td>\n",
       "      <td>tbd</td>\n",
       "      <td>action</td>\n",
       "      <td>2021-07-08</td>\n",
       "    </tr>\n",
       "    <tr>\n",
       "      <th>3</th>\n",
       "      <td>Boomerang X</td>\n",
       "      <td>PC</td>\n",
       "      <td>81.0</td>\n",
       "      <td>6.6</td>\n",
       "      <td>action</td>\n",
       "      <td>2021-07-08</td>\n",
       "    </tr>\n",
       "    <tr>\n",
       "      <th>4</th>\n",
       "      <td>Boomerang X</td>\n",
       "      <td>Switch</td>\n",
       "      <td>78.0</td>\n",
       "      <td>6.3</td>\n",
       "      <td>action</td>\n",
       "      <td>2021-07-08</td>\n",
       "    </tr>\n",
       "    <tr>\n",
       "      <th>...</th>\n",
       "      <td>...</td>\n",
       "      <td>...</td>\n",
       "      <td>...</td>\n",
       "      <td>...</td>\n",
       "      <td>...</td>\n",
       "      <td>...</td>\n",
       "    </tr>\n",
       "    <tr>\n",
       "      <th>30767</th>\n",
       "      <td>WCW Backstage Assault</td>\n",
       "      <td>Nintendo 64</td>\n",
       "      <td>NaN</td>\n",
       "      <td>6.0</td>\n",
       "      <td>wrestling</td>\n",
       "      <td>2000-12-12</td>\n",
       "    </tr>\n",
       "    <tr>\n",
       "      <th>30768</th>\n",
       "      <td>WWF SmackDown! 2: Know Your Role</td>\n",
       "      <td>PlayStation</td>\n",
       "      <td>90.0</td>\n",
       "      <td>8.4</td>\n",
       "      <td>wrestling</td>\n",
       "      <td>2000-11-21</td>\n",
       "    </tr>\n",
       "    <tr>\n",
       "      <th>30769</th>\n",
       "      <td>WWF No Mercy</td>\n",
       "      <td>Nintendo 64</td>\n",
       "      <td>89.0</td>\n",
       "      <td>8.5</td>\n",
       "      <td>wrestling</td>\n",
       "      <td>2000-11-17</td>\n",
       "    </tr>\n",
       "    <tr>\n",
       "      <th>30770</th>\n",
       "      <td>ECW Anarchy Rulz</td>\n",
       "      <td>PlayStation</td>\n",
       "      <td>NaN</td>\n",
       "      <td>6.4</td>\n",
       "      <td>wrestling</td>\n",
       "      <td>2000-08-18</td>\n",
       "    </tr>\n",
       "    <tr>\n",
       "      <th>30771</th>\n",
       "      <td>WWF Royal Rumble</td>\n",
       "      <td>Dreamcast</td>\n",
       "      <td>66.0</td>\n",
       "      <td>6.4</td>\n",
       "      <td>wrestling</td>\n",
       "      <td>2000-08-01</td>\n",
       "    </tr>\n",
       "  </tbody>\n",
       "</table>\n",
       "<p>30772 rows × 6 columns</p>\n",
       "</div>"
      ],
      "text/plain": [
       "                                   titles      platforms  metascore userscore  \\\n",
       "0      Streets of Rage 4: Mr. X Nightmare             PC       88.0       tbd   \n",
       "1                         Sniper Elite VR             PC       67.0       7.1   \n",
       "2                         Sniper Elite VR  PlayStation 4       75.0       tbd   \n",
       "3                             Boomerang X             PC       81.0       6.6   \n",
       "4                             Boomerang X         Switch       78.0       6.3   \n",
       "...                                   ...            ...        ...       ...   \n",
       "30767               WCW Backstage Assault    Nintendo 64        NaN       6.0   \n",
       "30768    WWF SmackDown! 2: Know Your Role    PlayStation       90.0       8.4   \n",
       "30769                        WWF No Mercy    Nintendo 64       89.0       8.5   \n",
       "30770                    ECW Anarchy Rulz    PlayStation        NaN       6.4   \n",
       "30771                    WWF Royal Rumble      Dreamcast       66.0       6.4   \n",
       "\n",
       "           genre       date  \n",
       "0         action 2021-07-15  \n",
       "1         action 2021-07-08  \n",
       "2         action 2021-07-08  \n",
       "3         action 2021-07-08  \n",
       "4         action 2021-07-08  \n",
       "...          ...        ...  \n",
       "30767  wrestling 2000-12-12  \n",
       "30768  wrestling 2000-11-21  \n",
       "30769  wrestling 2000-11-17  \n",
       "30770  wrestling 2000-08-18  \n",
       "30771  wrestling 2000-08-01  \n",
       "\n",
       "[30772 rows x 6 columns]"
      ]
     },
     "execution_count": 10,
     "metadata": {},
     "output_type": "execute_result"
    }
   ],
   "source": [
    "# Индексируем строки заново\n",
    "data.reset_index(drop=True)"
   ]
  },
  {
   "cell_type": "markdown",
   "id": "2f9c71b4",
   "metadata": {},
   "source": [
    "# Исследовательский анализ данных"
   ]
  },
  {
   "cell_type": "markdown",
   "id": "5e1a8ac6",
   "metadata": {},
   "source": [
    "Перед нами датасет с данными о релизах игр, начиная с 1994 года и заканчивая 2021 годом\n",
    "\n",
    "Датасет содержит информацию о:\n",
    "\n",
    "1. Название игры\n",
    "2. Платформа, на которой она была выпущена\n",
    "3. Оценка с сайта Metascore\n",
    "4. Оценка пользователей\n",
    "5. Жанр игры\n",
    "6. Дата выпуска\n",
    "\n",
    "По ходу анализа мы будем задавать вопросы к имеющимся данным, чтобы получить как можно больше полезной информации"
   ]
  },
  {
   "cell_type": "markdown",
   "id": "687e3983",
   "metadata": {},
   "source": [
    "Начнем с простого вопроса - \"Есть ли тенденция в количестве выпущенных игр в зависимости от года?\""
   ]
  },
  {
   "cell_type": "code",
   "execution_count": 11,
   "id": "a7db82b1",
   "metadata": {},
   "outputs": [],
   "source": [
    "# Создадим столбец с годами релизов игр\n",
    "data['Year'] = pd.DatetimeIndex(data['date']).year  "
   ]
  },
  {
   "cell_type": "code",
   "execution_count": 12,
   "id": "e20caa9f",
   "metadata": {},
   "outputs": [
    {
     "data": {
      "text/html": [
       "<div>\n",
       "<style scoped>\n",
       "    .dataframe tbody tr th:only-of-type {\n",
       "        vertical-align: middle;\n",
       "    }\n",
       "\n",
       "    .dataframe tbody tr th {\n",
       "        vertical-align: top;\n",
       "    }\n",
       "\n",
       "    .dataframe thead th {\n",
       "        text-align: right;\n",
       "    }\n",
       "</style>\n",
       "<table border=\"1\" class=\"dataframe\">\n",
       "  <thead>\n",
       "    <tr style=\"text-align: right;\">\n",
       "      <th></th>\n",
       "      <th>titles</th>\n",
       "      <th>platforms</th>\n",
       "      <th>metascore</th>\n",
       "      <th>userscore</th>\n",
       "      <th>genre</th>\n",
       "      <th>date</th>\n",
       "      <th>Year</th>\n",
       "    </tr>\n",
       "  </thead>\n",
       "  <tbody>\n",
       "    <tr>\n",
       "      <th>0</th>\n",
       "      <td>Streets of Rage 4: Mr. X Nightmare</td>\n",
       "      <td>PC</td>\n",
       "      <td>88.0</td>\n",
       "      <td>tbd</td>\n",
       "      <td>action</td>\n",
       "      <td>2021-07-15</td>\n",
       "      <td>2021</td>\n",
       "    </tr>\n",
       "    <tr>\n",
       "      <th>1</th>\n",
       "      <td>Sniper Elite VR</td>\n",
       "      <td>PC</td>\n",
       "      <td>67.0</td>\n",
       "      <td>7.1</td>\n",
       "      <td>action</td>\n",
       "      <td>2021-07-08</td>\n",
       "      <td>2021</td>\n",
       "    </tr>\n",
       "    <tr>\n",
       "      <th>2</th>\n",
       "      <td>Sniper Elite VR</td>\n",
       "      <td>PlayStation 4</td>\n",
       "      <td>75.0</td>\n",
       "      <td>tbd</td>\n",
       "      <td>action</td>\n",
       "      <td>2021-07-08</td>\n",
       "      <td>2021</td>\n",
       "    </tr>\n",
       "    <tr>\n",
       "      <th>3</th>\n",
       "      <td>Boomerang X</td>\n",
       "      <td>PC</td>\n",
       "      <td>81.0</td>\n",
       "      <td>6.6</td>\n",
       "      <td>action</td>\n",
       "      <td>2021-07-08</td>\n",
       "      <td>2021</td>\n",
       "    </tr>\n",
       "    <tr>\n",
       "      <th>4</th>\n",
       "      <td>Boomerang X</td>\n",
       "      <td>Switch</td>\n",
       "      <td>78.0</td>\n",
       "      <td>6.3</td>\n",
       "      <td>action</td>\n",
       "      <td>2021-07-08</td>\n",
       "      <td>2021</td>\n",
       "    </tr>\n",
       "    <tr>\n",
       "      <th>...</th>\n",
       "      <td>...</td>\n",
       "      <td>...</td>\n",
       "      <td>...</td>\n",
       "      <td>...</td>\n",
       "      <td>...</td>\n",
       "      <td>...</td>\n",
       "      <td>...</td>\n",
       "    </tr>\n",
       "    <tr>\n",
       "      <th>30772</th>\n",
       "      <td>WCW Backstage Assault</td>\n",
       "      <td>Nintendo 64</td>\n",
       "      <td>NaN</td>\n",
       "      <td>6.0</td>\n",
       "      <td>wrestling</td>\n",
       "      <td>2000-12-12</td>\n",
       "      <td>2000</td>\n",
       "    </tr>\n",
       "    <tr>\n",
       "      <th>30773</th>\n",
       "      <td>WWF SmackDown! 2: Know Your Role</td>\n",
       "      <td>PlayStation</td>\n",
       "      <td>90.0</td>\n",
       "      <td>8.4</td>\n",
       "      <td>wrestling</td>\n",
       "      <td>2000-11-21</td>\n",
       "      <td>2000</td>\n",
       "    </tr>\n",
       "    <tr>\n",
       "      <th>30774</th>\n",
       "      <td>WWF No Mercy</td>\n",
       "      <td>Nintendo 64</td>\n",
       "      <td>89.0</td>\n",
       "      <td>8.5</td>\n",
       "      <td>wrestling</td>\n",
       "      <td>2000-11-17</td>\n",
       "      <td>2000</td>\n",
       "    </tr>\n",
       "    <tr>\n",
       "      <th>30775</th>\n",
       "      <td>ECW Anarchy Rulz</td>\n",
       "      <td>PlayStation</td>\n",
       "      <td>NaN</td>\n",
       "      <td>6.4</td>\n",
       "      <td>wrestling</td>\n",
       "      <td>2000-08-18</td>\n",
       "      <td>2000</td>\n",
       "    </tr>\n",
       "    <tr>\n",
       "      <th>30776</th>\n",
       "      <td>WWF Royal Rumble</td>\n",
       "      <td>Dreamcast</td>\n",
       "      <td>66.0</td>\n",
       "      <td>6.4</td>\n",
       "      <td>wrestling</td>\n",
       "      <td>2000-08-01</td>\n",
       "      <td>2000</td>\n",
       "    </tr>\n",
       "  </tbody>\n",
       "</table>\n",
       "<p>30772 rows × 7 columns</p>\n",
       "</div>"
      ],
      "text/plain": [
       "                                   titles      platforms  metascore userscore  \\\n",
       "0      Streets of Rage 4: Mr. X Nightmare             PC       88.0       tbd   \n",
       "1                         Sniper Elite VR             PC       67.0       7.1   \n",
       "2                         Sniper Elite VR  PlayStation 4       75.0       tbd   \n",
       "3                             Boomerang X             PC       81.0       6.6   \n",
       "4                             Boomerang X         Switch       78.0       6.3   \n",
       "...                                   ...            ...        ...       ...   \n",
       "30772               WCW Backstage Assault    Nintendo 64        NaN       6.0   \n",
       "30773    WWF SmackDown! 2: Know Your Role    PlayStation       90.0       8.4   \n",
       "30774                        WWF No Mercy    Nintendo 64       89.0       8.5   \n",
       "30775                    ECW Anarchy Rulz    PlayStation        NaN       6.4   \n",
       "30776                    WWF Royal Rumble      Dreamcast       66.0       6.4   \n",
       "\n",
       "           genre       date  Year  \n",
       "0         action 2021-07-15  2021  \n",
       "1         action 2021-07-08  2021  \n",
       "2         action 2021-07-08  2021  \n",
       "3         action 2021-07-08  2021  \n",
       "4         action 2021-07-08  2021  \n",
       "...          ...        ...   ...  \n",
       "30772  wrestling 2000-12-12  2000  \n",
       "30773  wrestling 2000-11-21  2000  \n",
       "30774  wrestling 2000-11-17  2000  \n",
       "30775  wrestling 2000-08-18  2000  \n",
       "30776  wrestling 2000-08-01  2000  \n",
       "\n",
       "[30772 rows x 7 columns]"
      ]
     },
     "execution_count": 12,
     "metadata": {},
     "output_type": "execute_result"
    }
   ],
   "source": [
    "# Проверим наличие столбца\n",
    "data"
   ]
  },
  {
   "cell_type": "code",
   "execution_count": 13,
   "id": "6fd83d27",
   "metadata": {},
   "outputs": [
    {
     "data": {
      "text/plain": [
       "[Text(0.5, 0, 'Год выпуска'), Text(0, 0.5, 'Количество игр')]"
      ]
     },
     "execution_count": 13,
     "metadata": {},
     "output_type": "execute_result"
    },
    {
     "data": {
      "image/png": "[encoded data removed]",
      "text/plain": [
       "<Figure size 1152x576 with 1 Axes>"
      ]
     },
     "metadata": {},
     "output_type": "display_data"
    }
   ],
   "source": [
    "# Строим гистограмму\n",
    "plt.figure(figsize=(16,8))\n",
    "plt.title(\"Выпущенные игры по годам\")\n",
    "sns.countplot(data = data, x = 'Year').set(\n",
    "    xlabel='Год выпуска', \n",
    "    ylabel='Количество игр')"
   ]
  },
  {
   "cell_type": "markdown",
   "id": "70c8d6cc",
   "metadata": {},
   "source": [
    "Мы можем увидеть тендецию в увеличении количества выпущенных игр, начиная с 2000-ого года вплоть до 2011-ого года. Количество релизов увеличилось с чытырехсот до двух с небольшим тысяч, то есть примерно в пять раз.\n",
    "\n",
    "После 2011-ого года тенденция волнообразная, но тем не менее ниже 1500 игр в год не выпускается (исключая 2021 год, так как в датасете данные не за весь год, так как он ещё не закончился и неизвестно сколько ещё будет релизов игр).\n",
    "\n",
    "Самыми пиковыми годами по выпуску игр были 2010-2013 года (возможно это связано с тем, что появились производительные компьютеры и смартфоны, и поэтому gamedev начал активно развиваться)."
   ]
  },
  {
   "cell_type": "markdown",
   "id": "a1859387",
   "metadata": {},
   "source": [
    "Далее мы ответим на следующий вопрос: Какие месяца самые популярные для выпуска игр?"
   ]
  },
  {
   "cell_type": "code",
   "execution_count": 14,
   "id": "4b856c7e",
   "metadata": {},
   "outputs": [],
   "source": [
    "# Создадим столбец с месяцами релизов игр\n",
    "data['Month'] = pd.DatetimeIndex(data['date']).month  "
   ]
  },
  {
   "cell_type": "code",
   "execution_count": 15,
   "id": "8f7d5bb7",
   "metadata": {},
   "outputs": [],
   "source": [
    "#data.rename(columns={'oldName1': 'newName1', 'oldName2': 'newName2'}, inplace=True)"
   ]
  },
  {
   "cell_type": "code",
   "execution_count": 16,
   "id": "fd8559ab",
   "metadata": {},
   "outputs": [
    {
     "data": {
      "text/plain": [
       "[Text(0.5, 0, 'Месяц релиза'), Text(0, 0.5, 'Количество игр')]"
      ]
     },
     "execution_count": 16,
     "metadata": {},
     "output_type": "execute_result"
    },
    {
     "data": {
      "image/png": "[encoded data removed]",
      "text/plain": [
       "<Figure size 1152x576 with 1 Axes>"
      ]
     },
     "metadata": {},
     "output_type": "display_data"
    }
   ],
   "source": [
    "# Строим гистограмму\n",
    "plt.figure(figsize=(16,8))\n",
    "plt.title('Релизы игр по месяцам')\n",
    "sns.countplot(data = data, x = 'Month').set(\n",
    "        xlabel = 'Месяц релиза',\n",
    "        ylabel = 'Количество игр')"
   ]
  },
  {
   "cell_type": "markdown",
   "id": "05a44994",
   "metadata": {},
   "source": [
    "На гистограмме отчётливо видно, что наибольшее число релизов приходится на осень (больше трёх тысяч релизов в месяц, начиная с 1994 года), максимум - в октябре (почти 4000).\n",
    "\n",
    "Самыми непопулярным месяцем для выпуска игр являются январь (1500 релизов с 1994 года). Среди остальных месяцев стоит отметить март - он четвертый по популярности месяц выпуска игр (почти 3000)."
   ]
  },
  {
   "cell_type": "markdown",
   "id": "7bfbf0c5",
   "metadata": {},
   "source": [
    "Как и в кино, в играх есть жанры. И встает вопрос - есть ли среди них какой-либо самый популярный?"
   ]
  },
  {
   "cell_type": "code",
   "execution_count": 17,
   "id": "973598ef",
   "metadata": {},
   "outputs": [
    {
     "data": {
      "text/plain": [
       "[Text(0.5, 0, 'Жанр игры'), Text(0, 0.5, 'Количество игр')]"
      ]
     },
     "execution_count": 17,
     "metadata": {},
     "output_type": "execute_result"
    },
    {
     "data": {
      "image/png": "[encoded data removed]",
      "text/plain": [
       "<Figure size 1152x576 with 1 Axes>"
      ]
     },
     "metadata": {},
     "output_type": "display_data"
    }
   ],
   "source": [
    "# Топ-5 самых используемых жанров игр\n",
    "plt.figure(figsize=(16,8))\n",
    "plt.title('Топ-5 самых используемых жанров игр')\n",
    "sns.countplot(data=data, x='genre', order = data['genre'].value_counts().iloc[:5].index).set(\n",
    "            xlabel = 'Жанр игры',\n",
    "            ylabel = 'Количество игр')"
   ]
  },
  {
   "cell_type": "markdown",
   "id": "e19f18b2",
   "metadata": {},
   "source": [
    "С большим отрывом лидирует жанр - \"Action\" (больше 10000 выпущенных игр этого жанра).\n",
    "\n",
    "Следующие за ним жанры примерны равны по популярности (\"Role-playing\", \"Adventure\", \"Strategy\", \"First-person\")"
   ]
  },
  {
   "cell_type": "markdown",
   "id": "cf1219e3",
   "metadata": {},
   "source": [
    "Представленные в датасете игры были разработаны на разные платформы. Тут также, как и с жанрами интересно узнать - \"Если какие-нибудь платформы, на которые больше всего выпускают игры?\""
   ]
  },
  {
   "cell_type": "code",
   "execution_count": 18,
   "id": "03955f1d",
   "metadata": {},
   "outputs": [
    {
     "data": {
      "text/plain": [
       "[Text(0.5, 0, 'Платформы'), Text(0, 0.5, 'Количество игр')]"
      ]
     },
     "execution_count": 18,
     "metadata": {},
     "output_type": "execute_result"
    },
    {
     "data": {
      "image/png": "[encoded data removed]",
      "text/plain": [
       "<Figure size 1152x576 with 1 Axes>"
      ]
     },
     "metadata": {},
     "output_type": "display_data"
    }
   ],
   "source": [
    "# Топ-5 самых популярных платформ\n",
    "plt.figure(figsize=(16,8))\n",
    "plt.title('Топ-5 самых популярных платформ')\n",
    "sns.countplot(data=data, x='platforms', order=data['platforms'].value_counts().iloc[:5].index).set(\n",
    "            xlabel = 'Платформы',\n",
    "            ylabel = 'Количество игр')"
   ]
  },
  {
   "cell_type": "markdown",
   "id": "2a28b2b1",
   "metadata": {},
   "source": [
    "Наибольшее число выпущенных игр приходится на персональный компьютер (PC, больше 8000 тысяч релизов). \n",
    "\n",
    "За ним следует IOS - мобильная операционная система компании Apple (больше 3000 выпущенных игр на эту платформу).\n",
    "\n",
    "С третьего по пятое место занимают игровые приставки (PlayStation 4, Xbox 360, Switch - от 2000 до 2500 выпущенных игр)."
   ]
  },
  {
   "cell_type": "markdown",
   "id": "4c8ae3b9",
   "metadata": {},
   "source": [
    "### Сравнение средних оценок"
   ]
  },
  {
   "cell_type": "markdown",
   "id": "d1978fb9",
   "metadata": {},
   "source": [
    "#### Жанры"
   ]
  },
  {
   "cell_type": "markdown",
   "id": "d4bcd53e",
   "metadata": {},
   "source": [
    "В этом блоке мы попытаемся узнать - Есть ли различия в средних оценках Metascore в зависимости от жанра или платформы?"
   ]
  },
  {
   "cell_type": "code",
   "execution_count": 19,
   "id": "8dd50d23",
   "metadata": {},
   "outputs": [],
   "source": [
    "# Заменим пропущенные значения на среднее значение\n",
    "data['metascore'].fillna((data['metascore'].mean()), inplace=True)"
   ]
  },
  {
   "cell_type": "code",
   "execution_count": 20,
   "id": "9b504abd",
   "metadata": {},
   "outputs": [
    {
     "data": {
      "text/plain": [
       "[Text(0.5, 0, 'Оценки с сайта Metascore'), Text(0, 0.5, 'Жанр игры')]"
      ]
     },
     "execution_count": 20,
     "metadata": {},
     "output_type": "execute_result"
    },
    {
     "data": {
      "image/png": "[encoded data removed]",
      "text/plain": [
       "<Figure size 1008x576 with 1 Axes>"
      ]
     },
     "metadata": {},
     "output_type": "display_data"
    }
   ],
   "source": [
    "# Оценки игр с сайта Metascore по жанрам\n",
    "plt.figure(figsize=(14,8))\n",
    "plt.title('Распределение оценок игр с сайта Metascore по жанрам')\n",
    "sns.boxplot(data=data, x='metascore', y='genre', orient='h', order = data['genre'].value_counts().iloc[:5].index).set(\n",
    "            xlabel = 'Оценки с сайта Metascore',\n",
    "            ylabel = 'Жанр игры')"
   ]
  },
  {
   "cell_type": "code",
   "execution_count": 22,
   "id": "b903c541",
   "metadata": {},
   "outputs": [
    {
     "data": {
      "text/plain": [
       "F_onewayResult(statistic=13.914601320891244, pvalue=2.4483739195421186e-11)"
      ]
     },
     "execution_count": 22,
     "metadata": {},
     "output_type": "execute_result"
    }
   ],
   "source": [
    "# Используем параметрический критерий сравнения средних - ANOVA\n",
    "\n",
    "from scipy import stats\n",
    "from scipy.stats import f_oneway\n",
    "\n",
    "stats.f_oneway(data['metascore'][data['genre'] == 'action'],\n",
    "               data['metascore'][data['genre'] == 'role-playing'],\n",
    "               data['metascore'][data['genre'] == 'adventure'],\n",
    "                data['metascore'][data['genre'] == 'strategy'],\n",
    "                data['metascore'][data['genre'] == 'first-person'])\n"
   ]
  },
  {
   "cell_type": "markdown",
   "id": "ede5a4c7",
   "metadata": {},
   "source": [
    "Полученный показатель p-value не дает нам права говорить, что есть статистически значимые различия в средних оценках в зависимости от жанра игры"
   ]
  },
  {
   "cell_type": "markdown",
   "id": "904d7b5e",
   "metadata": {},
   "source": [
    "#### Платформы"
   ]
  },
  {
   "cell_type": "code",
   "execution_count": 23,
   "id": "33e4c2a6",
   "metadata": {},
   "outputs": [
    {
     "data": {
      "text/plain": [
       "[Text(0.5, 0, 'Оценки с сайта Metascore'), Text(0, 0.5, 'Платформа')]"
      ]
     },
     "execution_count": 23,
     "metadata": {},
     "output_type": "execute_result"
    },
    {
     "data": {
      "image/png": "[encoded data removed]",
      "text/plain": [
       "<Figure size 1008x576 with 1 Axes>"
      ]
     },
     "metadata": {},
     "output_type": "display_data"
    }
   ],
   "source": [
    "# Оценки игр с сайта Metascore по платформам\n",
    "plt.figure(figsize=(14,8))\n",
    "plt.title('Распределение оценок игр с сайта Metascore по платформам')\n",
    "sns.boxplot(data = data, x = 'metascore', y = 'platforms', order = data['platforms'].value_counts().iloc[:5].index).set(\n",
    "            xlabel = 'Оценки с сайта Metascore',\n",
    "            ylabel = 'Платформа')"
   ]
  },
  {
   "cell_type": "code",
   "execution_count": 25,
   "id": "1ec6f152",
   "metadata": {},
   "outputs": [
    {
     "data": {
      "text/plain": [
       "F_onewayResult(statistic=79.04838488971785, pvalue=1.2752422436998613e-66)"
      ]
     },
     "execution_count": 25,
     "metadata": {},
     "output_type": "execute_result"
    }
   ],
   "source": [
    "stats.f_oneway(data['metascore'][data['platforms'] == 'PC'],\n",
    "               data['metascore'][data['platforms'] == 'iOS'],\n",
    "               data['metascore'][data['platforms'] == 'PlayStation 4'],\n",
    "                data['metascore'][data['platforms'] == 'Xbox 360'],\n",
    "                data['metascore'][data['platforms'] == 'Switch'])"
   ]
  },
  {
   "cell_type": "markdown",
   "id": "9e58df47",
   "metadata": {},
   "source": [
    "В случае же с платформами есть статистически значимые различия в средних оценках, поэтому мы можем сказать, что игры, которые были выпущены на платформе iOS в среднем имеют более высокие оценки"
   ]
  },
  {
   "cell_type": "markdown",
   "id": "edac875a",
   "metadata": {},
   "source": [
    "# Выводы"
   ]
  },
  {
   "cell_type": "markdown",
   "id": "261d550a",
   "metadata": {},
   "source": [
    "- Самое большое количество релизов игр пришлось на 2010-2013 года\n",
    "\n",
    "- Начиная с 2000-ого года и вплоть до 2011-ого количество выпущенных игр увеличилось примерно в пять раз\n",
    "\n",
    "- Чаще всего игры выпускают осенью, пик приходится на октябрь\n",
    "\n",
    "- Январь - самый непопулярный месяц для выпуска игр\n",
    "\n",
    "- Самый популярный жанр, выпускаемых игр - Экшн\n",
    "\n",
    "- Большинство игр разрабатывается на платформу персонального компьютера\n",
    "\n",
    "- В среднем более высокую оценку на сайте Metascore получают игры платформы iOS"
   ]
  }
 ],
 "metadata": {
  "kernelspec": {
   "display_name": "Python 3",
   "language": "python",
   "name": "python3"
  },
  "language_info": {
   "codemirror_mode": {
    "name": "ipython",
    "version": 3
   },
   "file_extension": ".py",
   "mimetype": "text/x-python",
   "name": "python",
   "nbconvert_exporter": "python",
   "pygments_lexer": "ipython3",
   "version": "3.8.8"
  }
 },
 "nbformat": 4,
 "nbformat_minor": 5
}
